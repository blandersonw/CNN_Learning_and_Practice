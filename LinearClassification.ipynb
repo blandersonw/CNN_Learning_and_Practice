{
  "nbformat": 4,
  "nbformat_minor": 0,
  "metadata": {
    "colab": {
      "provenance": [],
      "collapsed_sections": [
        "4WZbhuOxXSeC",
        "Pkjc-z6U6XRA",
        "k2QJzuGk5czG",
        "mm93y3Xt5IbS"
      ],
      "authorship_tag": "ABX9TyOj+K286YUfs5CH9AJqz5UB",
      "include_colab_link": true
    },
    "kernelspec": {
      "name": "python3",
      "display_name": "Python 3"
    },
    "language_info": {
      "name": "python"
    }
  },
  "cells": [
    {
      "cell_type": "markdown",
      "metadata": {
        "id": "view-in-github",
        "colab_type": "text"
      },
      "source": [
        "<a href=\"https://colab.research.google.com/github/blandersonw/CNN_Learning_and_Practice/blob/main/LinearClassification.ipynb\" target=\"_parent\"><img src=\"https://colab.research.google.com/assets/colab-badge.svg\" alt=\"Open In Colab\"/></a>"
      ]
    },
    {
      "cell_type": "markdown",
      "source": [
        "# Notebook for working on Convolutional Neural Networks!"
      ],
      "metadata": {
        "id": "4WZbhuOxXSeC"
      }
    },
    {
      "cell_type": "markdown",
      "source": [
        "Date Links: \n",
        "https://docs.google.com/document/d/1SPlRf4yewUFx5ECQLSB53_NJnhXr-dNYvXFIp6zimVk/edit\n"
      ],
      "metadata": {
        "id": "TIxe-9mSXfcw"
      }
    },
    {
      "cell_type": "markdown",
      "source": [
        "# Linear Classification"
      ],
      "metadata": {
        "id": "Pkjc-z6U6XRA"
      }
    },
    {
      "cell_type": "code",
      "execution_count": null,
      "metadata": {
        "colab": {
          "base_uri": "https://localhost:8080/"
        },
        "id": "8ZbpkjboXMGP",
        "outputId": "f2de1c04-6e8c-49ba-a96a-e07cd7b860ed"
      },
      "outputs": [
        {
          "output_type": "stream",
          "name": "stdout",
          "text": [
            "--2022-12-31 20:34:54--  https://lazyprogrammer.me/course_files/arrhythmia.data\n",
            "Resolving lazyprogrammer.me (lazyprogrammer.me)... 104.21.23.210, 172.67.213.166, 2606:4700:3031::6815:17d2, ...\n",
            "Connecting to lazyprogrammer.me (lazyprogrammer.me)|104.21.23.210|:443... connected.\n",
            "HTTP request sent, awaiting response... 200 OK\n",
            "Length: 402355 (393K) [application/octet-stream]\n",
            "Saving to: ‘arrhythmia.data.1’\n",
            "\n",
            "arrhythmia.data.1   100%[===================>] 392.92K   810KB/s    in 0.5s    \n",
            "\n",
            "2022-12-31 20:34:55 (810 KB/s) - ‘arrhythmia.data.1’ saved [402355/402355]\n",
            "\n"
          ]
        }
      ],
      "source": [
        "!wget https://lazyprogrammer.me/course_files/arrhythmia.data"
      ]
    },
    {
      "cell_type": "markdown",
      "source": [
        "Classification"
      ],
      "metadata": {
        "id": "yXfi_v-yzXyy"
      }
    },
    {
      "cell_type": "code",
      "source": [
        "try:\n",
        "  %tensorflow_version 2.x\n",
        "except Exception:\n",
        "  pass\n",
        "\n",
        "import tensorflow as tf\n",
        "import numpy as np"
      ],
      "metadata": {
        "id": "Z4pL_vAqKH4l",
        "outputId": "30708f04-ffd8-479e-81da-b2b920fa6f03",
        "colab": {
          "base_uri": "https://localhost:8080/"
        }
      },
      "execution_count": null,
      "outputs": [
        {
          "output_type": "stream",
          "name": "stdout",
          "text": [
            "Colab only includes TensorFlow 2.x; %tensorflow_version has no effect.\n"
          ]
        }
      ]
    },
    {
      "cell_type": "code",
      "source": [
        "from sklearn.datasets import load_breast_cancer"
      ],
      "metadata": {
        "id": "lw1Sm6V7zMup"
      },
      "execution_count": null,
      "outputs": []
    },
    {
      "cell_type": "code",
      "source": [
        "data = load_breast_cancer()"
      ],
      "metadata": {
        "id": "LAEM7ye2zRMR"
      },
      "execution_count": null,
      "outputs": []
    },
    {
      "cell_type": "code",
      "source": [
        "type(data)"
      ],
      "metadata": {
        "colab": {
          "base_uri": "https://localhost:8080/"
        },
        "id": "3wfg5BAfzaLQ",
        "outputId": "bde69604-e343-45cc-b092-7de1f84df9c2"
      },
      "execution_count": null,
      "outputs": [
        {
          "output_type": "execute_result",
          "data": {
            "text/plain": [
              "sklearn.utils.Bunch"
            ]
          },
          "metadata": {},
          "execution_count": 25
        }
      ]
    },
    {
      "cell_type": "code",
      "source": [
        "data.data.shape\n",
        "#N, d"
      ],
      "metadata": {
        "colab": {
          "base_uri": "https://localhost:8080/"
        },
        "id": "fiBiUgFozgM1",
        "outputId": "4103abd3-ab9b-4ee8-81f4-2e894bd47989"
      },
      "execution_count": null,
      "outputs": [
        {
          "output_type": "execute_result",
          "data": {
            "text/plain": [
              "(569, 30)"
            ]
          },
          "metadata": {},
          "execution_count": 26
        }
      ]
    },
    {
      "cell_type": "code",
      "source": [
        "data.target.shape\n",
        "#Use data^^ to predict target"
      ],
      "metadata": {
        "colab": {
          "base_uri": "https://localhost:8080/"
        },
        "id": "QzQNY21RzsVq",
        "outputId": "b8fd0410-04d7-46a7-a167-f810343d1fde"
      },
      "execution_count": null,
      "outputs": [
        {
          "output_type": "execute_result",
          "data": {
            "text/plain": [
              "(569,)"
            ]
          },
          "metadata": {},
          "execution_count": 27
        }
      ]
    },
    {
      "cell_type": "code",
      "source": [
        "data.target_names"
      ],
      "metadata": {
        "colab": {
          "base_uri": "https://localhost:8080/"
        },
        "id": "fAglIl8Zz3qX",
        "outputId": "36fda90c-05be-4792-c5fa-3a9d66bb2ddc"
      },
      "execution_count": null,
      "outputs": [
        {
          "output_type": "execute_result",
          "data": {
            "text/plain": [
              "array(['malignant', 'benign'], dtype='<U9')"
            ]
          },
          "metadata": {},
          "execution_count": 28
        }
      ]
    },
    {
      "cell_type": "code",
      "source": [
        "data.feature_names"
      ],
      "metadata": {
        "colab": {
          "base_uri": "https://localhost:8080/"
        },
        "id": "f26xD5ES0plO",
        "outputId": "ff63cdbe-4c21-4d8b-93ee-f96f94698aff"
      },
      "execution_count": null,
      "outputs": [
        {
          "output_type": "execute_result",
          "data": {
            "text/plain": [
              "array(['mean radius', 'mean texture', 'mean perimeter', 'mean area',\n",
              "       'mean smoothness', 'mean compactness', 'mean concavity',\n",
              "       'mean concave points', 'mean symmetry', 'mean fractal dimension',\n",
              "       'radius error', 'texture error', 'perimeter error', 'area error',\n",
              "       'smoothness error', 'compactness error', 'concavity error',\n",
              "       'concave points error', 'symmetry error',\n",
              "       'fractal dimension error', 'worst radius', 'worst texture',\n",
              "       'worst perimeter', 'worst area', 'worst smoothness',\n",
              "       'worst compactness', 'worst concavity', 'worst concave points',\n",
              "       'worst symmetry', 'worst fractal dimension'], dtype='<U23')"
            ]
          },
          "metadata": {},
          "execution_count": 29
        }
      ]
    },
    {
      "cell_type": "code",
      "source": [
        "from sklearn.model_selection import train_test_split\n",
        "X_train, X_test, y_train, y_test = train_test_split(data.data, data.target, test_size=.33)\n",
        "\n",
        "N,D = X_train.shape"
      ],
      "metadata": {
        "id": "iNNv3P0r0wGU"
      },
      "execution_count": null,
      "outputs": []
    },
    {
      "cell_type": "code",
      "source": [
        "from sklearn.preprocessing import StandardScaler\n",
        "\n",
        "scaler = StandardScaler()\n",
        "X_train = scaler.fit_transform(X_train)\n",
        "X_test = scaler.transform(X_test)"
      ],
      "metadata": {
        "id": "uUxBW3nd1EfI"
      },
      "execution_count": null,
      "outputs": []
    },
    {
      "cell_type": "code",
      "source": [
        "model = tf.keras.models.Sequential([\n",
        "    tf.keras.layers.Input(shape=(D,)),\n",
        "    tf.keras.layers.Dense(1, activation=\"sigmoid\")])"
      ],
      "metadata": {
        "id": "QkyJCFdK2Ib9"
      },
      "execution_count": null,
      "outputs": []
    },
    {
      "cell_type": "code",
      "source": [
        "model.compile(optimizer = \"adam\",\n",
        "              loss = \"binary_crossentropy\",\n",
        "              metrics = [\"accuracy\"])"
      ],
      "metadata": {
        "id": "P9VshuXh2tmO"
      },
      "execution_count": null,
      "outputs": []
    },
    {
      "cell_type": "code",
      "source": [
        "r = model.fit(X_train, y_train, validation_data = (X_test, y_test), epochs = 100)"
      ],
      "metadata": {
        "colab": {
          "base_uri": "https://localhost:8080/"
        },
        "id": "J0LsmlHq3MSS",
        "outputId": "1d16dd1c-04fa-4c07-f64e-fb1278070cae"
      },
      "execution_count": null,
      "outputs": [
        {
          "output_type": "stream",
          "name": "stdout",
          "text": [
            "Epoch 1/100\n",
            "12/12 [==============================] - 1s 29ms/step - loss: 0.4274 - accuracy: 0.8793 - val_loss: 0.3969 - val_accuracy: 0.8883\n",
            "Epoch 2/100\n",
            "12/12 [==============================] - 0s 20ms/step - loss: 0.3946 - accuracy: 0.8898 - val_loss: 0.3637 - val_accuracy: 0.9202\n",
            "Epoch 3/100\n",
            "12/12 [==============================] - 0s 9ms/step - loss: 0.3664 - accuracy: 0.9003 - val_loss: 0.3357 - val_accuracy: 0.9149\n",
            "Epoch 4/100\n",
            "12/12 [==============================] - 0s 8ms/step - loss: 0.3424 - accuracy: 0.9081 - val_loss: 0.3120 - val_accuracy: 0.9309\n",
            "Epoch 5/100\n",
            "12/12 [==============================] - 0s 8ms/step - loss: 0.3221 - accuracy: 0.9186 - val_loss: 0.2919 - val_accuracy: 0.9309\n",
            "Epoch 6/100\n",
            "12/12 [==============================] - 0s 8ms/step - loss: 0.3045 - accuracy: 0.9213 - val_loss: 0.2746 - val_accuracy: 0.9468\n",
            "Epoch 7/100\n",
            "12/12 [==============================] - 0s 12ms/step - loss: 0.2891 - accuracy: 0.9239 - val_loss: 0.2597 - val_accuracy: 0.9468\n",
            "Epoch 8/100\n",
            "12/12 [==============================] - 0s 10ms/step - loss: 0.2754 - accuracy: 0.9265 - val_loss: 0.2465 - val_accuracy: 0.9521\n",
            "Epoch 9/100\n",
            "12/12 [==============================] - 0s 15ms/step - loss: 0.2634 - accuracy: 0.9318 - val_loss: 0.2347 - val_accuracy: 0.9521\n",
            "Epoch 10/100\n",
            "12/12 [==============================] - 0s 7ms/step - loss: 0.2527 - accuracy: 0.9396 - val_loss: 0.2244 - val_accuracy: 0.9574\n",
            "Epoch 11/100\n",
            "12/12 [==============================] - 0s 10ms/step - loss: 0.2427 - accuracy: 0.9449 - val_loss: 0.2150 - val_accuracy: 0.9574\n",
            "Epoch 12/100\n",
            "12/12 [==============================] - 0s 13ms/step - loss: 0.2338 - accuracy: 0.9475 - val_loss: 0.2066 - val_accuracy: 0.9628\n",
            "Epoch 13/100\n",
            "12/12 [==============================] - 0s 8ms/step - loss: 0.2255 - accuracy: 0.9475 - val_loss: 0.1990 - val_accuracy: 0.9628\n",
            "Epoch 14/100\n",
            "12/12 [==============================] - 0s 8ms/step - loss: 0.2181 - accuracy: 0.9501 - val_loss: 0.1920 - val_accuracy: 0.9574\n",
            "Epoch 15/100\n",
            "12/12 [==============================] - 0s 7ms/step - loss: 0.2112 - accuracy: 0.9501 - val_loss: 0.1856 - val_accuracy: 0.9574\n",
            "Epoch 16/100\n",
            "12/12 [==============================] - 0s 8ms/step - loss: 0.2046 - accuracy: 0.9501 - val_loss: 0.1798 - val_accuracy: 0.9574\n",
            "Epoch 17/100\n",
            "12/12 [==============================] - 0s 14ms/step - loss: 0.1988 - accuracy: 0.9501 - val_loss: 0.1744 - val_accuracy: 0.9628\n",
            "Epoch 18/100\n",
            "12/12 [==============================] - 0s 19ms/step - loss: 0.1933 - accuracy: 0.9501 - val_loss: 0.1693 - val_accuracy: 0.9628\n",
            "Epoch 19/100\n",
            "12/12 [==============================] - 0s 8ms/step - loss: 0.1881 - accuracy: 0.9528 - val_loss: 0.1647 - val_accuracy: 0.9681\n",
            "Epoch 20/100\n",
            "12/12 [==============================] - 0s 11ms/step - loss: 0.1833 - accuracy: 0.9554 - val_loss: 0.1603 - val_accuracy: 0.9681\n",
            "Epoch 21/100\n",
            "12/12 [==============================] - 0s 10ms/step - loss: 0.1787 - accuracy: 0.9554 - val_loss: 0.1563 - val_accuracy: 0.9681\n",
            "Epoch 22/100\n",
            "12/12 [==============================] - 0s 7ms/step - loss: 0.1746 - accuracy: 0.9554 - val_loss: 0.1526 - val_accuracy: 0.9681\n",
            "Epoch 23/100\n",
            "12/12 [==============================] - 0s 8ms/step - loss: 0.1705 - accuracy: 0.9554 - val_loss: 0.1491 - val_accuracy: 0.9681\n",
            "Epoch 24/100\n",
            "12/12 [==============================] - 0s 11ms/step - loss: 0.1669 - accuracy: 0.9554 - val_loss: 0.1458 - val_accuracy: 0.9681\n",
            "Epoch 25/100\n",
            "12/12 [==============================] - 0s 12ms/step - loss: 0.1634 - accuracy: 0.9554 - val_loss: 0.1427 - val_accuracy: 0.9681\n",
            "Epoch 26/100\n",
            "12/12 [==============================] - 0s 5ms/step - loss: 0.1599 - accuracy: 0.9554 - val_loss: 0.1398 - val_accuracy: 0.9734\n",
            "Epoch 27/100\n",
            "12/12 [==============================] - 0s 10ms/step - loss: 0.1568 - accuracy: 0.9580 - val_loss: 0.1371 - val_accuracy: 0.9734\n",
            "Epoch 28/100\n",
            "12/12 [==============================] - 0s 10ms/step - loss: 0.1538 - accuracy: 0.9606 - val_loss: 0.1345 - val_accuracy: 0.9734\n",
            "Epoch 29/100\n",
            "12/12 [==============================] - 0s 6ms/step - loss: 0.1511 - accuracy: 0.9633 - val_loss: 0.1321 - val_accuracy: 0.9734\n",
            "Epoch 30/100\n",
            "12/12 [==============================] - 0s 4ms/step - loss: 0.1486 - accuracy: 0.9633 - val_loss: 0.1297 - val_accuracy: 0.9734\n",
            "Epoch 31/100\n",
            "12/12 [==============================] - 0s 4ms/step - loss: 0.1459 - accuracy: 0.9633 - val_loss: 0.1276 - val_accuracy: 0.9734\n",
            "Epoch 32/100\n",
            "12/12 [==============================] - 0s 8ms/step - loss: 0.1434 - accuracy: 0.9685 - val_loss: 0.1256 - val_accuracy: 0.9734\n",
            "Epoch 33/100\n",
            "12/12 [==============================] - 0s 11ms/step - loss: 0.1413 - accuracy: 0.9685 - val_loss: 0.1235 - val_accuracy: 0.9734\n",
            "Epoch 34/100\n",
            "12/12 [==============================] - 0s 21ms/step - loss: 0.1391 - accuracy: 0.9711 - val_loss: 0.1217 - val_accuracy: 0.9734\n",
            "Epoch 35/100\n",
            "12/12 [==============================] - 0s 17ms/step - loss: 0.1370 - accuracy: 0.9711 - val_loss: 0.1199 - val_accuracy: 0.9734\n",
            "Epoch 36/100\n",
            "12/12 [==============================] - 0s 20ms/step - loss: 0.1351 - accuracy: 0.9711 - val_loss: 0.1182 - val_accuracy: 0.9734\n",
            "Epoch 37/100\n",
            "12/12 [==============================] - 0s 14ms/step - loss: 0.1333 - accuracy: 0.9711 - val_loss: 0.1166 - val_accuracy: 0.9734\n",
            "Epoch 38/100\n",
            "12/12 [==============================] - 0s 11ms/step - loss: 0.1315 - accuracy: 0.9711 - val_loss: 0.1151 - val_accuracy: 0.9734\n",
            "Epoch 39/100\n",
            "12/12 [==============================] - 0s 15ms/step - loss: 0.1298 - accuracy: 0.9711 - val_loss: 0.1136 - val_accuracy: 0.9734\n",
            "Epoch 40/100\n",
            "12/12 [==============================] - 0s 21ms/step - loss: 0.1282 - accuracy: 0.9738 - val_loss: 0.1122 - val_accuracy: 0.9734\n",
            "Epoch 41/100\n",
            "12/12 [==============================] - 0s 12ms/step - loss: 0.1266 - accuracy: 0.9738 - val_loss: 0.1108 - val_accuracy: 0.9734\n",
            "Epoch 42/100\n",
            "12/12 [==============================] - 0s 10ms/step - loss: 0.1251 - accuracy: 0.9738 - val_loss: 0.1094 - val_accuracy: 0.9734\n",
            "Epoch 43/100\n",
            "12/12 [==============================] - 0s 8ms/step - loss: 0.1237 - accuracy: 0.9738 - val_loss: 0.1083 - val_accuracy: 0.9734\n",
            "Epoch 44/100\n",
            "12/12 [==============================] - 0s 10ms/step - loss: 0.1224 - accuracy: 0.9738 - val_loss: 0.1070 - val_accuracy: 0.9734\n",
            "Epoch 45/100\n",
            "12/12 [==============================] - 0s 11ms/step - loss: 0.1210 - accuracy: 0.9738 - val_loss: 0.1059 - val_accuracy: 0.9734\n",
            "Epoch 46/100\n",
            "12/12 [==============================] - 0s 11ms/step - loss: 0.1197 - accuracy: 0.9764 - val_loss: 0.1048 - val_accuracy: 0.9734\n",
            "Epoch 47/100\n",
            "12/12 [==============================] - 0s 8ms/step - loss: 0.1186 - accuracy: 0.9764 - val_loss: 0.1037 - val_accuracy: 0.9734\n",
            "Epoch 48/100\n",
            "12/12 [==============================] - 0s 11ms/step - loss: 0.1174 - accuracy: 0.9764 - val_loss: 0.1027 - val_accuracy: 0.9734\n",
            "Epoch 49/100\n",
            "12/12 [==============================] - 0s 7ms/step - loss: 0.1163 - accuracy: 0.9764 - val_loss: 0.1016 - val_accuracy: 0.9734\n",
            "Epoch 50/100\n",
            "12/12 [==============================] - 0s 7ms/step - loss: 0.1152 - accuracy: 0.9764 - val_loss: 0.1008 - val_accuracy: 0.9734\n",
            "Epoch 51/100\n",
            "12/12 [==============================] - 0s 12ms/step - loss: 0.1142 - accuracy: 0.9764 - val_loss: 0.0998 - val_accuracy: 0.9734\n",
            "Epoch 52/100\n",
            "12/12 [==============================] - 0s 7ms/step - loss: 0.1132 - accuracy: 0.9764 - val_loss: 0.0989 - val_accuracy: 0.9734\n",
            "Epoch 53/100\n",
            "12/12 [==============================] - 0s 8ms/step - loss: 0.1122 - accuracy: 0.9764 - val_loss: 0.0980 - val_accuracy: 0.9734\n",
            "Epoch 54/100\n",
            "12/12 [==============================] - 0s 13ms/step - loss: 0.1112 - accuracy: 0.9764 - val_loss: 0.0972 - val_accuracy: 0.9734\n",
            "Epoch 55/100\n",
            "12/12 [==============================] - 0s 11ms/step - loss: 0.1103 - accuracy: 0.9764 - val_loss: 0.0964 - val_accuracy: 0.9734\n",
            "Epoch 56/100\n",
            "12/12 [==============================] - 0s 7ms/step - loss: 0.1095 - accuracy: 0.9764 - val_loss: 0.0956 - val_accuracy: 0.9734\n",
            "Epoch 57/100\n",
            "12/12 [==============================] - 0s 12ms/step - loss: 0.1086 - accuracy: 0.9764 - val_loss: 0.0949 - val_accuracy: 0.9734\n",
            "Epoch 58/100\n",
            "12/12 [==============================] - 0s 4ms/step - loss: 0.1078 - accuracy: 0.9764 - val_loss: 0.0942 - val_accuracy: 0.9734\n",
            "Epoch 59/100\n",
            "12/12 [==============================] - 0s 6ms/step - loss: 0.1070 - accuracy: 0.9764 - val_loss: 0.0933 - val_accuracy: 0.9734\n",
            "Epoch 60/100\n",
            "12/12 [==============================] - 0s 10ms/step - loss: 0.1063 - accuracy: 0.9764 - val_loss: 0.0926 - val_accuracy: 0.9787\n",
            "Epoch 61/100\n",
            "12/12 [==============================] - 0s 6ms/step - loss: 0.1055 - accuracy: 0.9764 - val_loss: 0.0920 - val_accuracy: 0.9787\n",
            "Epoch 62/100\n",
            "12/12 [==============================] - 0s 6ms/step - loss: 0.1048 - accuracy: 0.9764 - val_loss: 0.0913 - val_accuracy: 0.9787\n",
            "Epoch 63/100\n",
            "12/12 [==============================] - 0s 13ms/step - loss: 0.1041 - accuracy: 0.9764 - val_loss: 0.0908 - val_accuracy: 0.9787\n",
            "Epoch 64/100\n",
            "12/12 [==============================] - 0s 12ms/step - loss: 0.1034 - accuracy: 0.9764 - val_loss: 0.0900 - val_accuracy: 0.9787\n",
            "Epoch 65/100\n",
            "12/12 [==============================] - 0s 8ms/step - loss: 0.1027 - accuracy: 0.9764 - val_loss: 0.0895 - val_accuracy: 0.9787\n",
            "Epoch 66/100\n",
            "12/12 [==============================] - 0s 8ms/step - loss: 0.1021 - accuracy: 0.9764 - val_loss: 0.0889 - val_accuracy: 0.9787\n",
            "Epoch 67/100\n",
            "12/12 [==============================] - 0s 5ms/step - loss: 0.1014 - accuracy: 0.9764 - val_loss: 0.0883 - val_accuracy: 0.9787\n",
            "Epoch 68/100\n",
            "12/12 [==============================] - 0s 6ms/step - loss: 0.1008 - accuracy: 0.9764 - val_loss: 0.0878 - val_accuracy: 0.9787\n",
            "Epoch 69/100\n",
            "12/12 [==============================] - 0s 6ms/step - loss: 0.1003 - accuracy: 0.9764 - val_loss: 0.0872 - val_accuracy: 0.9787\n",
            "Epoch 70/100\n",
            "12/12 [==============================] - 0s 4ms/step - loss: 0.0997 - accuracy: 0.9764 - val_loss: 0.0867 - val_accuracy: 0.9787\n",
            "Epoch 71/100\n",
            "12/12 [==============================] - 0s 5ms/step - loss: 0.0991 - accuracy: 0.9764 - val_loss: 0.0861 - val_accuracy: 0.9787\n",
            "Epoch 72/100\n",
            "12/12 [==============================] - 0s 5ms/step - loss: 0.0985 - accuracy: 0.9764 - val_loss: 0.0857 - val_accuracy: 0.9787\n",
            "Epoch 73/100\n",
            "12/12 [==============================] - 0s 5ms/step - loss: 0.0980 - accuracy: 0.9764 - val_loss: 0.0853 - val_accuracy: 0.9787\n",
            "Epoch 74/100\n",
            "12/12 [==============================] - 0s 5ms/step - loss: 0.0975 - accuracy: 0.9764 - val_loss: 0.0848 - val_accuracy: 0.9787\n",
            "Epoch 75/100\n",
            "12/12 [==============================] - 0s 5ms/step - loss: 0.0970 - accuracy: 0.9764 - val_loss: 0.0843 - val_accuracy: 0.9787\n",
            "Epoch 76/100\n",
            "12/12 [==============================] - 0s 4ms/step - loss: 0.0965 - accuracy: 0.9764 - val_loss: 0.0838 - val_accuracy: 0.9787\n",
            "Epoch 77/100\n",
            "12/12 [==============================] - 0s 8ms/step - loss: 0.0960 - accuracy: 0.9764 - val_loss: 0.0835 - val_accuracy: 0.9787\n",
            "Epoch 78/100\n",
            "12/12 [==============================] - 0s 4ms/step - loss: 0.0955 - accuracy: 0.9764 - val_loss: 0.0830 - val_accuracy: 0.9787\n",
            "Epoch 79/100\n",
            "12/12 [==============================] - 0s 5ms/step - loss: 0.0950 - accuracy: 0.9764 - val_loss: 0.0826 - val_accuracy: 0.9787\n",
            "Epoch 80/100\n",
            "12/12 [==============================] - 0s 5ms/step - loss: 0.0946 - accuracy: 0.9764 - val_loss: 0.0822 - val_accuracy: 0.9787\n",
            "Epoch 81/100\n",
            "12/12 [==============================] - 0s 6ms/step - loss: 0.0942 - accuracy: 0.9764 - val_loss: 0.0818 - val_accuracy: 0.9787\n",
            "Epoch 82/100\n",
            "12/12 [==============================] - 0s 4ms/step - loss: 0.0937 - accuracy: 0.9764 - val_loss: 0.0814 - val_accuracy: 0.9787\n",
            "Epoch 83/100\n",
            "12/12 [==============================] - 0s 6ms/step - loss: 0.0933 - accuracy: 0.9764 - val_loss: 0.0809 - val_accuracy: 0.9787\n",
            "Epoch 84/100\n",
            "12/12 [==============================] - 0s 5ms/step - loss: 0.0929 - accuracy: 0.9764 - val_loss: 0.0806 - val_accuracy: 0.9787\n",
            "Epoch 85/100\n",
            "12/12 [==============================] - 0s 17ms/step - loss: 0.0925 - accuracy: 0.9764 - val_loss: 0.0802 - val_accuracy: 0.9787\n",
            "Epoch 86/100\n",
            "12/12 [==============================] - 0s 15ms/step - loss: 0.0921 - accuracy: 0.9764 - val_loss: 0.0799 - val_accuracy: 0.9787\n",
            "Epoch 87/100\n",
            "12/12 [==============================] - 0s 8ms/step - loss: 0.0917 - accuracy: 0.9764 - val_loss: 0.0794 - val_accuracy: 0.9787\n",
            "Epoch 88/100\n",
            "12/12 [==============================] - 0s 9ms/step - loss: 0.0913 - accuracy: 0.9764 - val_loss: 0.0792 - val_accuracy: 0.9787\n",
            "Epoch 89/100\n",
            "12/12 [==============================] - 0s 11ms/step - loss: 0.0909 - accuracy: 0.9764 - val_loss: 0.0789 - val_accuracy: 0.9787\n",
            "Epoch 90/100\n",
            "12/12 [==============================] - 0s 8ms/step - loss: 0.0906 - accuracy: 0.9764 - val_loss: 0.0786 - val_accuracy: 0.9787\n",
            "Epoch 91/100\n",
            "12/12 [==============================] - 0s 8ms/step - loss: 0.0902 - accuracy: 0.9764 - val_loss: 0.0782 - val_accuracy: 0.9787\n",
            "Epoch 92/100\n",
            "12/12 [==============================] - 0s 9ms/step - loss: 0.0898 - accuracy: 0.9764 - val_loss: 0.0779 - val_accuracy: 0.9787\n",
            "Epoch 93/100\n",
            "12/12 [==============================] - 0s 9ms/step - loss: 0.0895 - accuracy: 0.9790 - val_loss: 0.0776 - val_accuracy: 0.9787\n",
            "Epoch 94/100\n",
            "12/12 [==============================] - 0s 17ms/step - loss: 0.0892 - accuracy: 0.9790 - val_loss: 0.0773 - val_accuracy: 0.9787\n",
            "Epoch 95/100\n",
            "12/12 [==============================] - 0s 5ms/step - loss: 0.0889 - accuracy: 0.9790 - val_loss: 0.0770 - val_accuracy: 0.9787\n",
            "Epoch 96/100\n",
            "12/12 [==============================] - 0s 5ms/step - loss: 0.0885 - accuracy: 0.9790 - val_loss: 0.0767 - val_accuracy: 0.9787\n",
            "Epoch 97/100\n",
            "12/12 [==============================] - 0s 4ms/step - loss: 0.0882 - accuracy: 0.9790 - val_loss: 0.0764 - val_accuracy: 0.9787\n",
            "Epoch 98/100\n",
            "12/12 [==============================] - 0s 6ms/step - loss: 0.0878 - accuracy: 0.9790 - val_loss: 0.0761 - val_accuracy: 0.9787\n",
            "Epoch 99/100\n",
            "12/12 [==============================] - 0s 16ms/step - loss: 0.0875 - accuracy: 0.9790 - val_loss: 0.0760 - val_accuracy: 0.9787\n",
            "Epoch 100/100\n",
            "12/12 [==============================] - 0s 11ms/step - loss: 0.0872 - accuracy: 0.9790 - val_loss: 0.0756 - val_accuracy: 0.9787\n"
          ]
        }
      ]
    },
    {
      "cell_type": "code",
      "source": [
        "print(\"Train score:\", model.evaluate(X_train,y_train))"
      ],
      "metadata": {
        "colab": {
          "base_uri": "https://localhost:8080/"
        },
        "id": "EbgSAJD63reA",
        "outputId": "eb143465-2a49-43c7-ce11-616fde31740f"
      },
      "execution_count": null,
      "outputs": [
        {
          "output_type": "stream",
          "name": "stdout",
          "text": [
            "12/12 [==============================] - 0s 4ms/step - loss: 0.0871 - accuracy: 0.9790\n",
            "Train score: [0.0870545357465744, 0.9790025949478149]\n"
          ]
        }
      ]
    },
    {
      "cell_type": "code",
      "source": [
        "print(\"Train score:\", model.evaluate(X_test,y_test))"
      ],
      "metadata": {
        "colab": {
          "base_uri": "https://localhost:8080/"
        },
        "id": "f9o6Zm0s3x4I",
        "outputId": "e8d1e7b6-ee5c-445c-abc7-f13686fadb0a"
      },
      "execution_count": null,
      "outputs": [
        {
          "output_type": "stream",
          "name": "stdout",
          "text": [
            "6/6 [==============================] - 0s 4ms/step - loss: 0.0756 - accuracy: 0.9787\n",
            "Train score: [0.07556711137294769, 0.978723406791687]\n"
          ]
        }
      ]
    },
    {
      "cell_type": "code",
      "source": [
        "import matplotlib.pyplot as plt\n",
        "plt.plot(r.history['loss'], label='loss')\n",
        "plt.plot(r.history['val_loss'], label='val_loss')\n",
        "plt.legend()"
      ],
      "metadata": {
        "colab": {
          "base_uri": "https://localhost:8080/",
          "height": 283
        },
        "id": "SkitLzS_33i8",
        "outputId": "6b5e43c2-b225-4ce9-d59f-e6d0bf9525ac"
      },
      "execution_count": null,
      "outputs": [
        {
          "output_type": "execute_result",
          "data": {
            "text/plain": [
              "<matplotlib.legend.Legend at 0x7f3affa5f790>"
            ]
          },
          "metadata": {},
          "execution_count": 37
        },
        {
          "output_type": "display_data",
          "data": {
            "text/plain": [
              "<Figure size 432x288 with 1 Axes>"
            ],
            "image/png": "[encoded data removed]"
          },
          "metadata": {
            "needs_background": "light"
          }
        }
      ]
    },
    {
      "cell_type": "code",
      "source": [
        "plt.plot(r.history['accuracy'], label='accuracy')\n",
        "plt.plot(r.history['val_accuracy'], label='val_accuracy')\n",
        "plt.legend()"
      ],
      "metadata": {
        "colab": {
          "base_uri": "https://localhost:8080/",
          "height": 283
        },
        "id": "TwOqgoK54Kvv",
        "outputId": "0a9b2de8-b633-4e2a-d0ec-ba9151fac772"
      },
      "execution_count": null,
      "outputs": [
        {
          "output_type": "execute_result",
          "data": {
            "text/plain": [
              "<matplotlib.legend.Legend at 0x7f3affaba550>"
            ]
          },
          "metadata": {},
          "execution_count": 38
        },
        {
          "output_type": "display_data",
          "data": {
            "text/plain": [
              "<Figure size 432x288 with 1 Axes>"
            ],
            "image/png": "[encoded data removed]"
          },
          "metadata": {
            "needs_background": "light"
          }
        }
      ]
    },
    {
      "cell_type": "markdown",
      "source": [
        "# Manual Prediction"
      ],
      "metadata": {
        "id": "k2QJzuGk5czG"
      }
    },
    {
      "cell_type": "code",
      "source": [
        "P = model.predict(X_test)"
      ],
      "metadata": {
        "colab": {
          "base_uri": "https://localhost:8080/"
        },
        "id": "TfRRQUym4RVv",
        "outputId": "c5913376-be02-4179-cd92-edb0ba0b5291"
      },
      "execution_count": null,
      "outputs": [
        {
          "output_type": "stream",
          "name": "stdout",
          "text": [
            "6/6 [==============================] - 0s 3ms/step\n"
          ]
        }
      ]
    },
    {
      "cell_type": "code",
      "source": [
        "P = np.round(P).flatten()"
      ],
      "metadata": {
        "id": "fx6VWAK44c2M"
      },
      "execution_count": null,
      "outputs": []
    },
    {
      "cell_type": "code",
      "source": [
        "print(\"Manually calculated:\", np.mean(P == y_test))\n",
        "print(\"Evaluate ouput:\", model.evaluate(X_test, y_test))"
      ],
      "metadata": {
        "colab": {
          "base_uri": "https://localhost:8080/"
        },
        "id": "7-v0tfsK5Dve",
        "outputId": "8f7c5979-ddfe-4528-b135-f2d9d25231f9"
      },
      "execution_count": null,
      "outputs": [
        {
          "output_type": "stream",
          "name": "stdout",
          "text": [
            "Manually calculated: 0.574468085106383\n",
            "6/6 [==============================] - 0s 6ms/step - loss: 0.0756 - accuracy: 0.9787\n",
            "Evaluate ouput: [0.07556711137294769, 0.978723406791687]\n"
          ]
        }
      ]
    },
    {
      "cell_type": "markdown",
      "source": [
        "#Saving / Loading Model"
      ],
      "metadata": {
        "id": "mm93y3Xt5IbS"
      }
    },
    {
      "cell_type": "markdown",
      "source": [
        "SAVING A MODEL LOCALLY IN DRIVE"
      ],
      "metadata": {
        "id": "79jtSmGC51UC"
      }
    },
    {
      "cell_type": "code",
      "source": [
        "model.save('linearclassifier.h5')"
      ],
      "metadata": {
        "id": "5TIWKqps5Lrj"
      },
      "execution_count": null,
      "outputs": []
    },
    {
      "cell_type": "code",
      "source": [
        "!ls -lh"
      ],
      "metadata": {
        "colab": {
          "base_uri": "https://localhost:8080/"
        },
        "id": "vgKJBTU75Wud",
        "outputId": "f5526223-7558-4374-b1e8-61a48388ade5"
      },
      "execution_count": null,
      "outputs": [
        {
          "output_type": "stream",
          "name": "stdout",
          "text": [
            "total 816K\n",
            "-rw-r--r-- 1 root root 393K Apr  3  2020 arrhythmia.data\n",
            "-rw-r--r-- 1 root root 393K Apr  3  2020 arrhythmia.data.1\n",
            "-rw-r--r-- 1 root root  19K Dec 31 20:35 linearclassifier.h5\n",
            "drwxr-xr-x 1 root root 4.0K Dec 20 20:19 sample_data\n"
          ]
        }
      ]
    },
    {
      "cell_type": "code",
      "source": [
        "model = tf.keras.models.load_model('linearclassifier.h5')\n",
        "print(model.layers)\n",
        "model.evaluate(X_test, y_test)"
      ],
      "metadata": {
        "colab": {
          "base_uri": "https://localhost:8080/"
        },
        "id": "tT2pCLJ-5f3K",
        "outputId": "cf8a4b53-7f3d-4832-8378-ced1ed2b0ae4"
      },
      "execution_count": null,
      "outputs": [
        {
          "output_type": "stream",
          "name": "stdout",
          "text": [
            "[<keras.layers.core.dense.Dense object at 0x7f3afcbce4c0>]\n",
            "6/6 [==============================] - 0s 2ms/step - loss: 0.0756 - accuracy: 0.9787\n"
          ]
        },
        {
          "output_type": "execute_result",
          "data": {
            "text/plain": [
              "[0.07556711137294769, 0.978723406791687]"
            ]
          },
          "metadata": {},
          "execution_count": 46
        }
      ]
    },
    {
      "cell_type": "markdown",
      "source": [
        "Go to files, and download the .h5 files in order to download the model to your hardware."
      ],
      "metadata": {
        "id": "XK7gyi5L59nw"
      }
    }
  ]
}